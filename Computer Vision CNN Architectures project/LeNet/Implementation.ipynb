{
 "cells": [
  {
   "cell_type": "markdown",
   "metadata": {},
   "source": [
    "The implementation is done on Mnist Dataset "
   ]
  },
  {
   "cell_type": "code",
   "execution_count": 2,
   "metadata": {},
   "outputs": [
    {
     "name": "stdout",
     "output_type": "stream",
     "text": [
      "Collecting keras\n",
      "  Downloading https://files.pythonhosted.org/packages/44/e1/dc0757b20b56c980b5553c1b5c4c32d378c7055ab7bfa92006801ad359ab/Keras-2.4.3-py2.py3-none-any.whl\n",
      "Requirement already satisfied: h5py in c:\\users\\ayush\\anaconda3\\lib\\site-packages (from keras) (2.10.0)\n",
      "Requirement already satisfied: pyyaml in c:\\users\\ayush\\anaconda3\\lib\\site-packages (from keras) (5.1.2)\n",
      "Requirement already satisfied: numpy>=1.9.1 in c:\\users\\ayush\\anaconda3\\lib\\site-packages (from keras) (1.16.5)\n",
      "Requirement already satisfied: scipy>=0.14 in c:\\users\\ayush\\anaconda3\\lib\\site-packages (from keras) (1.3.1)\n",
      "Requirement already satisfied: six in c:\\users\\ayush\\anaconda3\\lib\\site-packages (from h5py->keras) (1.12.0)\n",
      "Installing collected packages: keras\n",
      "Successfully installed keras-2.4.3\n"
     ]
    }
   ],
   "source": [
    "!pip install keras\n"
   ]
  },
  {
   "cell_type": "code",
   "execution_count": 3,
   "metadata": {},
   "outputs": [
    {
     "name": "stdout",
     "output_type": "stream",
     "text": [
      "Epoch 1/20\n",
      "469/469 [==============================] - 20s 42ms/step - loss: 0.3377 - accuracy: 0.8978 - val_loss: 0.0971 - val_accuracy: 0.9713\n",
      "Epoch 2/20\n",
      "469/469 [==============================] - 18s 39ms/step - loss: 0.0922 - accuracy: 0.9717 - val_loss: 0.0644 - val_accuracy: 0.9803\n",
      "Epoch 3/20\n",
      "469/469 [==============================] - 18s 38ms/step - loss: 0.0670 - accuracy: 0.9796 - val_loss: 0.0535 - val_accuracy: 0.9824\n",
      "Epoch 4/20\n",
      "469/469 [==============================] - 18s 39ms/step - loss: 0.0535 - accuracy: 0.9834 - val_loss: 0.0444 - val_accuracy: 0.9852\n",
      "Epoch 5/20\n",
      "469/469 [==============================] - 18s 39ms/step - loss: 0.0460 - accuracy: 0.9858 - val_loss: 0.0452 - val_accuracy: 0.9849\n",
      "Epoch 6/20\n",
      "469/469 [==============================] - 18s 38ms/step - loss: 0.0369 - accuracy: 0.9879 - val_loss: 0.0449 - val_accuracy: 0.9864\n",
      "Epoch 7/20\n",
      "469/469 [==============================] - 18s 38ms/step - loss: 0.0324 - accuracy: 0.9899 - val_loss: 0.0345 - val_accuracy: 0.9889\n",
      "Epoch 8/20\n",
      "469/469 [==============================] - 18s 38ms/step - loss: 0.0278 - accuracy: 0.9912 - val_loss: 0.0342 - val_accuracy: 0.9883\n",
      "Epoch 9/20\n",
      "469/469 [==============================] - 24s 51ms/step - loss: 0.0248 - accuracy: 0.9922 - val_loss: 0.0362 - val_accuracy: 0.9881\n",
      "Epoch 10/20\n",
      "469/469 [==============================] - 24s 51ms/step - loss: 0.0235 - accuracy: 0.9924 - val_loss: 0.0314 - val_accuracy: 0.9896\n",
      "Epoch 11/20\n",
      "469/469 [==============================] - 22s 48ms/step - loss: 0.0197 - accuracy: 0.9939 - val_loss: 0.0308 - val_accuracy: 0.9899\n",
      "Epoch 12/20\n",
      "469/469 [==============================] - 19s 39ms/step - loss: 0.0185 - accuracy: 0.9937 - val_loss: 0.0376 - val_accuracy: 0.9879\n",
      "Epoch 13/20\n",
      "469/469 [==============================] - 19s 41ms/step - loss: 0.0148 - accuracy: 0.9952 - val_loss: 0.0320 - val_accuracy: 0.9899\n",
      "Epoch 14/20\n",
      "469/469 [==============================] - 18s 39ms/step - loss: 0.0144 - accuracy: 0.9952 - val_loss: 0.0325 - val_accuracy: 0.9886\n",
      "Epoch 15/20\n",
      "469/469 [==============================] - 18s 39ms/step - loss: 0.0128 - accuracy: 0.9959 - val_loss: 0.0364 - val_accuracy: 0.9893\n",
      "Epoch 16/20\n",
      "469/469 [==============================] - 19s 40ms/step - loss: 0.0108 - accuracy: 0.9965 - val_loss: 0.0341 - val_accuracy: 0.9896\n",
      "Epoch 17/20\n",
      "469/469 [==============================] - 19s 40ms/step - loss: 0.0117 - accuracy: 0.9962 - val_loss: 0.0327 - val_accuracy: 0.9901\n",
      "Epoch 18/20\n",
      "469/469 [==============================] - 18s 39ms/step - loss: 0.0115 - accuracy: 0.9963 - val_loss: 0.0443 - val_accuracy: 0.9881\n",
      "Epoch 19/20\n",
      "469/469 [==============================] - 18s 39ms/step - loss: 0.0105 - accuracy: 0.9966 - val_loss: 0.0341 - val_accuracy: 0.9909\n",
      "Epoch 20/20\n",
      "469/469 [==============================] - 19s 40ms/step - loss: 0.0087 - accuracy: 0.9970 - val_loss: 0.0388 - val_accuracy: 0.9896\n",
      "313/313 [==============================] - 2s 7ms/step - loss: 0.0388 - accuracy: 0.9896\n",
      "Test Loss: 0.038832586258649826\n",
      "Test accuracy: 0.9896000027656555\n"
     ]
    }
   ],
   "source": [
    "import keras\n",
    "from keras.datasets import mnist\n",
    "from keras.layers import Conv2D, MaxPooling2D\n",
    "from keras.layers import Dense, Flatten\n",
    "from keras.models import Sequential\n",
    "\n",
    "# Loading the dataset and perform splitting\n",
    "(x_train, y_train), (x_test, y_test) = mnist.load_data()\n",
    "# Peforming reshaping operation\n",
    "x_train = x_train.reshape(x_train.shape[0], 28, 28, 1)\n",
    "x_test = x_test.reshape(x_test.shape[0], 28, 28, 1)\n",
    "\n",
    "# Normalization\n",
    "x_train = x_train / 255\n",
    "x_test = x_test / 255\n",
    "\n",
    "# One Hot Encoding\n",
    "y_train = keras.utils.to_categorical(y_train, 10)\n",
    "y_test = keras.utils.to_categorical(y_test, 10)\n",
    "# Building the Model Architecture\n",
    "\n",
    "model = Sequential()\n",
    "# Select 6 feature convolution kernels with a size of 5 * 5 (without offset), and get 66 feature maps. The size of each feature map is 32−5 + 1 = 2832−5 + 1 = 28.\n",
    "# That is, the number of neurons has been reduced from 10241024 to 28 ∗ 28 = 784 28 ∗ 28 = 784.\n",
    "# Parameters between input layer and C1 layer: 6 ∗ (5 ∗ 5 + 1)\n",
    "model.add(Conv2D(6, kernel_size=(5, 5), activation='relu', input_shape=(28, 28, 1)))\n",
    "# The input of this layer is the output of the first layer, which is a 28 * 28 * 6 node matrix.\n",
    "# The size of the filter used in this layer is 2 * 2, and the step length and width are both 2, so the output matrix size of this layer is 14 * 14 * 6.\n",
    "model.add(MaxPooling2D(pool_size=(2, 2)))\n",
    "# The input matrix size of this layer is 14 * 14 * 6, the filter size used is 5 * 5, and the depth is 16. This layer does not use all 0 padding, and the step size is 1.\n",
    "# The output matrix size of this layer is 10 * 10 * 16. This layer has 5 * 5 * 6 * 16 + 16 = 2416 parameters\n",
    "model.add(Conv2D(16, kernel_size=(5, 5), activation='relu'))\n",
    "# The input matrix size of this layer is 10 * 10 * 16. The size of the filter used in this layer is 2 * 2, and the length and width steps are both 2, so the output matrix size of this layer is 5 * 5 * 16.\n",
    "model.add(MaxPooling2D(pool_size=(2, 2)))\n",
    "# The input matrix size of this layer is 5 * 5 * 16. This layer is called a convolution layer in the LeNet-5 paper, but because the size of the filter is 5 * 5, #\n",
    "# So it is not different from the fully connected layer. If the nodes in the 5 * 5 * 16 matrix are pulled into a vector, then this layer is the same as the fully connected layer.\n",
    "# The number of output nodes in this layer is 120, with a total of 5 * 5 * 16 * 120 + 120 = 48120 parameters.\n",
    "model.add(Flatten())\n",
    "model.add(Dense(120, activation='relu'))\n",
    "# The number of input nodes in this layer is 120 and the number of output nodes is 84. The total parameter is 120 * 84 + 84 = 10164 (w + b)\n",
    "model.add(Dense(84, activation='relu'))\n",
    "# The number of input nodes in this layer is 84 and the number of output nodes is 10. The total parameter is 84 * 10 + 10 = 850\n",
    "model.add(Dense(10, activation='softmax'))\n",
    "model.compile(loss=keras.metrics.categorical_crossentropy, optimizer=keras.optimizers.Adam(), metrics=['accuracy'])\n",
    "model.fit(x_train, y_train, batch_size=128, epochs=20, verbose=1, validation_data=(x_test, y_test))\n",
    "score = model.evaluate(x_test, y_test)\n",
    "print('Test Loss:', score[0])\n",
    "print('Test accuracy:', score[1])"
   ]
  },
  {
   "cell_type": "code",
   "execution_count": null,
   "metadata": {},
   "outputs": [],
   "source": []
  }
 ],
 "metadata": {
  "kernelspec": {
   "display_name": "Python 3",
   "language": "python",
   "name": "python3"
  },
  "language_info": {
   "codemirror_mode": {
    "name": "ipython",
    "version": 3
   },
   "file_extension": ".py",
   "mimetype": "text/x-python",
   "name": "python",
   "nbconvert_exporter": "python",
   "pygments_lexer": "ipython3",
   "version": "3.7.4"
  }
 },
 "nbformat": 4,
 "nbformat_minor": 2
}
